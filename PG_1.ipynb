{
 "cells": [
  {
   "cell_type": "code",
   "execution_count": 88,
   "id": "0993fb1e-6e29-48df-9aaa-03ad5c95ab1c",
   "metadata": {},
   "outputs": [],
   "source": [
    "#Libraries\n",
    "import os\n",
    "import pandas as pd\n",
    "import matplotlib.pyplot as plt\n",
    "import seaborn as sns\n",
    "import numpy as np \n",
    "\n",
    "from sklearn.model_selection import train_test_split\n",
    "from sklearn.preprocessing import MinMaxScaler, RobustScaler\n",
    "from sklearn.metrics import mean_squared_error\n",
    "\n",
    "import tensorflow as tf\n",
    "from tensorflow.keras.layers import Dense, InputLayer, BatchNormalization, Dropout\n",
    "from tensorflow.keras.optimizers import Adam\n",
    "from tensorflow.keras.activations import relu, linear\n",
    "from tensorflow.keras import regularizers\n",
    "from tensorflow.keras.callbacks import EarlyStopping\n",
    "\n",
    "import optuna"
   ]
  },
  {
   "cell_type": "code",
   "execution_count": 23,
   "id": "cb451d2f-b2d3-48c6-8bf1-7558a24ee49e",
   "metadata": {},
   "outputs": [],
   "source": [
    "train_data_path = os.path.join('..', 'data','raw','train.csv')\n",
    "test_data_path = os.path.join('..', 'data','raw','test.csv')\n",
    "train_data = pd.read_csv(train_data_path)\n",
    "test_data = pd.read_csv(test_data_path)"
   ]
  },
  {
   "cell_type": "code",
   "execution_count": 3,
   "id": "b1edda0e-3272-4e59-9d84-2f5ef7f8ca99",
   "metadata": {},
   "outputs": [
    {
     "name": "stdout",
     "output_type": "stream",
     "text": [
      "(188533, 13)\n"
     ]
    },
    {
     "data": {
      "text/html": [
       "<div>\n",
       "<style scoped>\n",
       "    .dataframe tbody tr th:only-of-type {\n",
       "        vertical-align: middle;\n",
       "    }\n",
       "\n",
       "    .dataframe tbody tr th {\n",
       "        vertical-align: top;\n",
       "    }\n",
       "\n",
       "    .dataframe thead th {\n",
       "        text-align: right;\n",
       "    }\n",
       "</style>\n",
       "<table border=\"1\" class=\"dataframe\">\n",
       "  <thead>\n",
       "    <tr style=\"text-align: right;\">\n",
       "      <th></th>\n",
       "      <th>id</th>\n",
       "      <th>brand</th>\n",
       "      <th>model</th>\n",
       "      <th>model_year</th>\n",
       "      <th>milage</th>\n",
       "      <th>fuel_type</th>\n",
       "      <th>engine</th>\n",
       "      <th>transmission</th>\n",
       "      <th>ext_col</th>\n",
       "      <th>int_col</th>\n",
       "      <th>accident</th>\n",
       "      <th>clean_title</th>\n",
       "      <th>price</th>\n",
       "    </tr>\n",
       "  </thead>\n",
       "  <tbody>\n",
       "    <tr>\n",
       "      <th>0</th>\n",
       "      <td>0</td>\n",
       "      <td>MINI</td>\n",
       "      <td>Cooper S Base</td>\n",
       "      <td>2007</td>\n",
       "      <td>213000</td>\n",
       "      <td>Gasoline</td>\n",
       "      <td>172.0HP 1.6L 4 Cylinder Engine Gasoline Fuel</td>\n",
       "      <td>A/T</td>\n",
       "      <td>Yellow</td>\n",
       "      <td>Gray</td>\n",
       "      <td>None reported</td>\n",
       "      <td>Yes</td>\n",
       "      <td>4200</td>\n",
       "    </tr>\n",
       "    <tr>\n",
       "      <th>1</th>\n",
       "      <td>1</td>\n",
       "      <td>Lincoln</td>\n",
       "      <td>LS V8</td>\n",
       "      <td>2002</td>\n",
       "      <td>143250</td>\n",
       "      <td>Gasoline</td>\n",
       "      <td>252.0HP 3.9L 8 Cylinder Engine Gasoline Fuel</td>\n",
       "      <td>A/T</td>\n",
       "      <td>Silver</td>\n",
       "      <td>Beige</td>\n",
       "      <td>At least 1 accident or damage reported</td>\n",
       "      <td>Yes</td>\n",
       "      <td>4999</td>\n",
       "    </tr>\n",
       "    <tr>\n",
       "      <th>2</th>\n",
       "      <td>2</td>\n",
       "      <td>Chevrolet</td>\n",
       "      <td>Silverado 2500 LT</td>\n",
       "      <td>2002</td>\n",
       "      <td>136731</td>\n",
       "      <td>E85 Flex Fuel</td>\n",
       "      <td>320.0HP 5.3L 8 Cylinder Engine Flex Fuel Capab...</td>\n",
       "      <td>A/T</td>\n",
       "      <td>Blue</td>\n",
       "      <td>Gray</td>\n",
       "      <td>None reported</td>\n",
       "      <td>Yes</td>\n",
       "      <td>13900</td>\n",
       "    </tr>\n",
       "    <tr>\n",
       "      <th>3</th>\n",
       "      <td>3</td>\n",
       "      <td>Genesis</td>\n",
       "      <td>G90 5.0 Ultimate</td>\n",
       "      <td>2017</td>\n",
       "      <td>19500</td>\n",
       "      <td>Gasoline</td>\n",
       "      <td>420.0HP 5.0L 8 Cylinder Engine Gasoline Fuel</td>\n",
       "      <td>Transmission w/Dual Shift Mode</td>\n",
       "      <td>Black</td>\n",
       "      <td>Black</td>\n",
       "      <td>None reported</td>\n",
       "      <td>Yes</td>\n",
       "      <td>45000</td>\n",
       "    </tr>\n",
       "    <tr>\n",
       "      <th>4</th>\n",
       "      <td>4</td>\n",
       "      <td>Mercedes-Benz</td>\n",
       "      <td>Metris Base</td>\n",
       "      <td>2021</td>\n",
       "      <td>7388</td>\n",
       "      <td>Gasoline</td>\n",
       "      <td>208.0HP 2.0L 4 Cylinder Engine Gasoline Fuel</td>\n",
       "      <td>7-Speed A/T</td>\n",
       "      <td>Black</td>\n",
       "      <td>Beige</td>\n",
       "      <td>None reported</td>\n",
       "      <td>Yes</td>\n",
       "      <td>97500</td>\n",
       "    </tr>\n",
       "  </tbody>\n",
       "</table>\n",
       "</div>"
      ],
      "text/plain": [
       "   id          brand              model  model_year  milage      fuel_type  \\\n",
       "0   0           MINI      Cooper S Base        2007  213000       Gasoline   \n",
       "1   1        Lincoln              LS V8        2002  143250       Gasoline   \n",
       "2   2      Chevrolet  Silverado 2500 LT        2002  136731  E85 Flex Fuel   \n",
       "3   3        Genesis   G90 5.0 Ultimate        2017   19500       Gasoline   \n",
       "4   4  Mercedes-Benz        Metris Base        2021    7388       Gasoline   \n",
       "\n",
       "                                              engine  \\\n",
       "0       172.0HP 1.6L 4 Cylinder Engine Gasoline Fuel   \n",
       "1       252.0HP 3.9L 8 Cylinder Engine Gasoline Fuel   \n",
       "2  320.0HP 5.3L 8 Cylinder Engine Flex Fuel Capab...   \n",
       "3       420.0HP 5.0L 8 Cylinder Engine Gasoline Fuel   \n",
       "4       208.0HP 2.0L 4 Cylinder Engine Gasoline Fuel   \n",
       "\n",
       "                     transmission ext_col int_col  \\\n",
       "0                             A/T  Yellow    Gray   \n",
       "1                             A/T  Silver   Beige   \n",
       "2                             A/T    Blue    Gray   \n",
       "3  Transmission w/Dual Shift Mode   Black   Black   \n",
       "4                     7-Speed A/T   Black   Beige   \n",
       "\n",
       "                                 accident clean_title  price  \n",
       "0                           None reported         Yes   4200  \n",
       "1  At least 1 accident or damage reported         Yes   4999  \n",
       "2                           None reported         Yes  13900  \n",
       "3                           None reported         Yes  45000  \n",
       "4                           None reported         Yes  97500  "
      ]
     },
     "execution_count": 3,
     "metadata": {},
     "output_type": "execute_result"
    }
   ],
   "source": [
    "print(train_data.shape)\n",
    "train_data.head()"
   ]
  },
  {
   "cell_type": "code",
   "execution_count": 4,
   "id": "5332cb3e-1f01-4311-91d5-254c180778f8",
   "metadata": {},
   "outputs": [
    {
     "data": {
      "text/html": [
       "<div>\n",
       "<style scoped>\n",
       "    .dataframe tbody tr th:only-of-type {\n",
       "        vertical-align: middle;\n",
       "    }\n",
       "\n",
       "    .dataframe tbody tr th {\n",
       "        vertical-align: top;\n",
       "    }\n",
       "\n",
       "    .dataframe thead th {\n",
       "        text-align: right;\n",
       "    }\n",
       "</style>\n",
       "<table border=\"1\" class=\"dataframe\">\n",
       "  <thead>\n",
       "    <tr style=\"text-align: right;\">\n",
       "      <th></th>\n",
       "      <th>id</th>\n",
       "      <th>model_year</th>\n",
       "      <th>milage</th>\n",
       "      <th>price</th>\n",
       "    </tr>\n",
       "  </thead>\n",
       "  <tbody>\n",
       "    <tr>\n",
       "      <th>count</th>\n",
       "      <td>188533.000000</td>\n",
       "      <td>188533.000000</td>\n",
       "      <td>188533.000000</td>\n",
       "      <td>1.885330e+05</td>\n",
       "    </tr>\n",
       "    <tr>\n",
       "      <th>mean</th>\n",
       "      <td>94266.000000</td>\n",
       "      <td>2015.829998</td>\n",
       "      <td>65705.295174</td>\n",
       "      <td>4.387802e+04</td>\n",
       "    </tr>\n",
       "    <tr>\n",
       "      <th>std</th>\n",
       "      <td>54424.933488</td>\n",
       "      <td>5.660967</td>\n",
       "      <td>49798.158076</td>\n",
       "      <td>7.881952e+04</td>\n",
       "    </tr>\n",
       "    <tr>\n",
       "      <th>min</th>\n",
       "      <td>0.000000</td>\n",
       "      <td>1974.000000</td>\n",
       "      <td>100.000000</td>\n",
       "      <td>2.000000e+03</td>\n",
       "    </tr>\n",
       "    <tr>\n",
       "      <th>25%</th>\n",
       "      <td>47133.000000</td>\n",
       "      <td>2013.000000</td>\n",
       "      <td>24115.000000</td>\n",
       "      <td>1.700000e+04</td>\n",
       "    </tr>\n",
       "    <tr>\n",
       "      <th>50%</th>\n",
       "      <td>94266.000000</td>\n",
       "      <td>2017.000000</td>\n",
       "      <td>57785.000000</td>\n",
       "      <td>3.082500e+04</td>\n",
       "    </tr>\n",
       "    <tr>\n",
       "      <th>75%</th>\n",
       "      <td>141399.000000</td>\n",
       "      <td>2020.000000</td>\n",
       "      <td>95400.000000</td>\n",
       "      <td>4.990000e+04</td>\n",
       "    </tr>\n",
       "    <tr>\n",
       "      <th>max</th>\n",
       "      <td>188532.000000</td>\n",
       "      <td>2024.000000</td>\n",
       "      <td>405000.000000</td>\n",
       "      <td>2.954083e+06</td>\n",
       "    </tr>\n",
       "  </tbody>\n",
       "</table>\n",
       "</div>"
      ],
      "text/plain": [
       "                  id     model_year         milage         price\n",
       "count  188533.000000  188533.000000  188533.000000  1.885330e+05\n",
       "mean    94266.000000    2015.829998   65705.295174  4.387802e+04\n",
       "std     54424.933488       5.660967   49798.158076  7.881952e+04\n",
       "min         0.000000    1974.000000     100.000000  2.000000e+03\n",
       "25%     47133.000000    2013.000000   24115.000000  1.700000e+04\n",
       "50%     94266.000000    2017.000000   57785.000000  3.082500e+04\n",
       "75%    141399.000000    2020.000000   95400.000000  4.990000e+04\n",
       "max    188532.000000    2024.000000  405000.000000  2.954083e+06"
      ]
     },
     "execution_count": 4,
     "metadata": {},
     "output_type": "execute_result"
    }
   ],
   "source": [
    "train_data.describe()"
   ]
  },
  {
   "cell_type": "code",
   "execution_count": 5,
   "id": "c0912394-755c-4cbc-985e-1f16551ef74c",
   "metadata": {},
   "outputs": [
    {
     "data": {
      "text/plain": [
       "id               int64\n",
       "brand           object\n",
       "model           object\n",
       "model_year       int64\n",
       "milage           int64\n",
       "fuel_type       object\n",
       "engine          object\n",
       "transmission    object\n",
       "ext_col         object\n",
       "int_col         object\n",
       "accident        object\n",
       "clean_title     object\n",
       "price            int64\n",
       "dtype: object"
      ]
     },
     "execution_count": 5,
     "metadata": {},
     "output_type": "execute_result"
    }
   ],
   "source": [
    "train_data.dtypes"
   ]
  },
  {
   "cell_type": "code",
   "execution_count": 6,
   "id": "9e7fb281-0007-46e1-96f4-30b8e9611410",
   "metadata": {},
   "outputs": [
    {
     "data": {
      "text/html": [
       "<div>\n",
       "<style scoped>\n",
       "    .dataframe tbody tr th:only-of-type {\n",
       "        vertical-align: middle;\n",
       "    }\n",
       "\n",
       "    .dataframe tbody tr th {\n",
       "        vertical-align: top;\n",
       "    }\n",
       "\n",
       "    .dataframe thead th {\n",
       "        text-align: right;\n",
       "    }\n",
       "</style>\n",
       "<table border=\"1\" class=\"dataframe\">\n",
       "  <thead>\n",
       "    <tr style=\"text-align: right;\">\n",
       "      <th></th>\n",
       "      <th>nan_total</th>\n",
       "    </tr>\n",
       "  </thead>\n",
       "  <tbody>\n",
       "    <tr>\n",
       "      <th>id</th>\n",
       "      <td>0</td>\n",
       "    </tr>\n",
       "    <tr>\n",
       "      <th>brand</th>\n",
       "      <td>0</td>\n",
       "    </tr>\n",
       "    <tr>\n",
       "      <th>model</th>\n",
       "      <td>0</td>\n",
       "    </tr>\n",
       "    <tr>\n",
       "      <th>model_year</th>\n",
       "      <td>0</td>\n",
       "    </tr>\n",
       "    <tr>\n",
       "      <th>milage</th>\n",
       "      <td>0</td>\n",
       "    </tr>\n",
       "    <tr>\n",
       "      <th>fuel_type</th>\n",
       "      <td>5083</td>\n",
       "    </tr>\n",
       "    <tr>\n",
       "      <th>engine</th>\n",
       "      <td>0</td>\n",
       "    </tr>\n",
       "    <tr>\n",
       "      <th>transmission</th>\n",
       "      <td>0</td>\n",
       "    </tr>\n",
       "    <tr>\n",
       "      <th>ext_col</th>\n",
       "      <td>0</td>\n",
       "    </tr>\n",
       "    <tr>\n",
       "      <th>int_col</th>\n",
       "      <td>0</td>\n",
       "    </tr>\n",
       "    <tr>\n",
       "      <th>accident</th>\n",
       "      <td>2452</td>\n",
       "    </tr>\n",
       "    <tr>\n",
       "      <th>clean_title</th>\n",
       "      <td>21419</td>\n",
       "    </tr>\n",
       "    <tr>\n",
       "      <th>price</th>\n",
       "      <td>0</td>\n",
       "    </tr>\n",
       "  </tbody>\n",
       "</table>\n",
       "</div>"
      ],
      "text/plain": [
       "              nan_total\n",
       "id                    0\n",
       "brand                 0\n",
       "model                 0\n",
       "model_year            0\n",
       "milage                0\n",
       "fuel_type          5083\n",
       "engine                0\n",
       "transmission          0\n",
       "ext_col               0\n",
       "int_col               0\n",
       "accident           2452\n",
       "clean_title       21419\n",
       "price                 0"
      ]
     },
     "execution_count": 6,
     "metadata": {},
     "output_type": "execute_result"
    }
   ],
   "source": [
    "nan_counts = train_data.isna().sum()\n",
    "nan_table = pd.DataFrame(nan_counts, columns= ['nan_total'])\n",
    "nan_table"
   ]
  },
  {
   "cell_type": "markdown",
   "id": "07ffdc0c-0dcb-4d15-8412-0cbf56e1e24f",
   "metadata": {},
   "source": [
    "There is a lot of categorical variables so we have to decide what to do with them, the first thing it occurs to me is see how many categories does have every categorical variable. Also we have missing values."
   ]
  },
  {
   "cell_type": "markdown",
   "id": "5fdaaa87-d355-4aa4-9713-afb9afa4d822",
   "metadata": {},
   "source": [
    "# Handling missing values"
   ]
  },
  {
   "cell_type": "markdown",
   "id": "2668987c-42cc-4a45-9079-43b6d2022a33",
   "metadata": {},
   "source": [
    "## Fuel type \n",
    "I have an hypotesis: The most common type of fuel type is gasoline so the most probable thing is that this cars that do not have a fuel type assigned they use gasoline as a fuel type. "
   ]
  },
  {
   "cell_type": "code",
   "execution_count": 7,
   "id": "091f119c-2848-4ff1-887c-d8aca391de51",
   "metadata": {},
   "outputs": [
    {
     "data": {
      "image/png": "[encoded data removed]",
      "text/plain": [
       "<Figure size 1000x800 with 1 Axes>"
      ]
     },
     "metadata": {},
     "output_type": "display_data"
    }
   ],
   "source": [
    "def autopct_format(values):\n",
    "    def my_format(pct):\n",
    "        total = sum(values)\n",
    "        val = int(round(pct * total / 100.0))\n",
    "        if pct > 2:  \n",
    "            return f'{pct:.1f}%'\n",
    "        else:\n",
    "            return ''  \n",
    "    return my_format\n",
    "\n",
    "fuel_type_vc = train_data['fuel_type'].value_counts()[:-1]\n",
    "colors = sns.color_palette('pastel')[0:len(fuel_type_vc)]\n",
    "plt.figure(figsize= (10,8))\n",
    "plt.pie(fuel_type_vc, labeldistance= 1.1,labels= fuel_type_vc.index, colors= colors, autopct= autopct_format(fuel_type_vc))\n",
    "plt.show()"
   ]
  },
  {
   "cell_type": "markdown",
   "id": "72fb9eee-5893-463c-9ef6-cb6845c650bf",
   "metadata": {},
   "source": [
    "Keeping this graph in mind we already know what to do with the missing values, we are going to imput it to Gasoline. The question is how do we procces this unbalances column, i can think it 3 ways:\n",
    "1. Eliminate the column\n",
    "2. Binarized (Gasoline or other)\n",
    "3. Normal One Hot Encoding\n",
    "   \n",
    "To decide lets make another graph."
   ]
  },
  {
   "cell_type": "code",
   "execution_count": 8,
   "id": "e134c33e-ec45-4f2b-8fac-04d5c52b3401",
   "metadata": {},
   "outputs": [
    {
     "data": {
      "image/png": "[encoded data removed]",
      "text/plain": [
       "<Figure size 1000x800 with 1 Axes>"
      ]
     },
     "metadata": {},
     "output_type": "display_data"
    }
   ],
   "source": [
    "plt.figure(figsize=(10,8))\n",
    "sns.violinplot(hue= 'fuel_type', y= 'price', data= train_data, palette= 'muted')\n",
    "plt.show()"
   ]
  },
  {
   "cell_type": "markdown",
   "id": "8c4dddb6-f570-4ff1-944e-8fd844fe678e",
   "metadata": {},
   "source": [
    "What i see here is that there is little difference of the price of the vehicle and its fuel type i think the best for now is eliminating this column but if we need more complexity for the model we can add it with a binary approach."
   ]
  },
  {
   "cell_type": "markdown",
   "id": "0002acc8-7ff7-4e73-88f9-9fa41b82db4c",
   "metadata": {},
   "source": [
    "## Accident"
   ]
  },
  {
   "cell_type": "code",
   "execution_count": 9,
   "id": "d0423413-716a-4650-8328-37f764586f7c",
   "metadata": {},
   "outputs": [
    {
     "data": {
      "image/png": "[encoded data removed]",
      "text/plain": [
       "<Figure size 1000x800 with 1 Axes>"
      ]
     },
     "metadata": {},
     "output_type": "display_data"
    }
   ],
   "source": [
    "accident_vc = train_data['accident'].value_counts()\n",
    "plt.figure(figsize= (10,8))\n",
    "plt.pie(accident_vc, labeldistance= 1.1,labels= accident_vc.index, colors= colors, autopct= '%1.1f%%')\n",
    "plt.show()"
   ]
  },
  {
   "cell_type": "code",
   "execution_count": 10,
   "id": "d8b02efe-bd3e-45d2-8995-67a644787481",
   "metadata": {},
   "outputs": [
    {
     "data": {
      "image/png": "[encoded data removed]",
      "text/plain": [
       "<Figure size 1000x800 with 1 Axes>"
      ]
     },
     "metadata": {},
     "output_type": "display_data"
    }
   ],
   "source": [
    "plt.figure(figsize=(10,8))\n",
    "sns.violinplot(hue= 'accident', y= 'price', data= train_data, palette= 'muted')\n",
    "plt.show()"
   ]
  },
  {
   "cell_type": "markdown",
   "id": "053721ed-e360-41b9-befe-9bac12fcc9ce",
   "metadata": {},
   "source": [
    "Here we will binarize and also for missing data we will use none reported."
   ]
  },
  {
   "cell_type": "markdown",
   "id": "50da1d04-01e7-437f-9982-8e268dcf7829",
   "metadata": {},
   "source": [
    "## Clean Title"
   ]
  },
  {
   "cell_type": "code",
   "execution_count": 11,
   "id": "0b2c24ca-bc01-4756-bdf3-dc33a435d3e0",
   "metadata": {},
   "outputs": [
    {
     "data": {
      "image/png": "[encoded data removed]",
      "text/plain": [
       "<Figure size 1000x800 with 1 Axes>"
      ]
     },
     "metadata": {},
     "output_type": "display_data"
    }
   ],
   "source": [
    "clena_title_vc = train_data['clean_title'].value_counts()\n",
    "plt.figure(figsize= (10,8))\n",
    "plt.pie(clena_title_vc, labeldistance= 1.1,labels= clena_title_vc.index, colors= colors, autopct= '%1.1f%%')\n",
    "plt.show()"
   ]
  },
  {
   "cell_type": "markdown",
   "id": "66665e3b-5e88-4b24-b43c-ff1f0622a286",
   "metadata": {},
   "source": [
    "Here we can see that the null or missing values from the clean title column refers to cars that doesnot have clean titles "
   ]
  },
  {
   "cell_type": "markdown",
   "id": "3a1955c5-b4dc-4f8d-bfd7-d96cceb84a48",
   "metadata": {},
   "source": [
    "## Other values"
   ]
  },
  {
   "cell_type": "code",
   "execution_count": 12,
   "id": "b16a7e2a-f774-4c2f-8a48-3d30f830cf40",
   "metadata": {},
   "outputs": [],
   "source": [
    "categorical_vars = ['brand', 'model', 'engine', 'transmission', 'ext_col', 'int_col'] #Discart model year we can just normalize"
   ]
  },
  {
   "cell_type": "code",
   "execution_count": 13,
   "id": "fdb56dbe-b23b-4c50-82ce-3f3d09f17e80",
   "metadata": {},
   "outputs": [
    {
     "data": {
      "text/plain": [
       "brand             57\n",
       "model           1897\n",
       "engine          1117\n",
       "transmission      52\n",
       "ext_col          319\n",
       "int_col          156\n",
       "dtype: int64"
      ]
     },
     "execution_count": 13,
     "metadata": {},
     "output_type": "execute_result"
    }
   ],
   "source": [
    "train_data[categorical_vars].nunique()"
   ]
  },
  {
   "cell_type": "markdown",
   "id": "df22fce6-daf4-4d11-bc46-bc46608654db",
   "metadata": {},
   "source": [
    "High cardinality problems"
   ]
  },
  {
   "cell_type": "code",
   "execution_count": 14,
   "id": "3bed94a4-086d-40f7-82c3-2f438b6622ac",
   "metadata": {},
   "outputs": [],
   "source": [
    "threshold = 0.03 #adjust\n",
    "for col in categorical_vars:\n",
    "    frequency = train_data[col].value_counts(normalize= True)\n",
    "    rare_categories = frequency[frequency < threshold].index\n",
    "    train_data[col] = train_data[col].apply(lambda x: 'Other' if x in rare_categories else x)"
   ]
  },
  {
   "cell_type": "code",
   "execution_count": 15,
   "id": "acabb8a8-e3e4-4120-9a20-867f75b205ec",
   "metadata": {},
   "outputs": [
    {
     "data": {
      "text/plain": [
       "brand           11\n",
       "model            1\n",
       "engine           1\n",
       "transmission    10\n",
       "ext_col          7\n",
       "int_col          5\n",
       "dtype: int64"
      ]
     },
     "execution_count": 15,
     "metadata": {},
     "output_type": "execute_result"
    }
   ],
   "source": [
    "train_data[categorical_vars].nunique()"
   ]
  },
  {
   "cell_type": "code",
   "execution_count": 16,
   "id": "0b98942f-d985-4ba5-ae9b-e5f9bf7e9970",
   "metadata": {},
   "outputs": [
    {
     "data": {
      "text/plain": [
       "Index(['id', 'brand', 'model', 'model_year', 'milage', 'fuel_type', 'engine',\n",
       "       'transmission', 'ext_col', 'int_col', 'accident', 'clean_title',\n",
       "       'price'],\n",
       "      dtype='object')"
      ]
     },
     "execution_count": 16,
     "metadata": {},
     "output_type": "execute_result"
    }
   ],
   "source": [
    "train_data.columns"
   ]
  },
  {
   "cell_type": "markdown",
   "id": "9cbdd833-d582-43f8-954d-a406eda92a02",
   "metadata": {},
   "source": [
    "## Creata data pre-proccesing function"
   ]
  },
  {
   "cell_type": "code",
   "execution_count": 24,
   "id": "c08bfba1-622c-446c-bb4c-ec8a6347e68b",
   "metadata": {},
   "outputs": [],
   "source": [
    "def preproccess(df, threshold=0.03):\n",
    "    df = df.copy()\n",
    "    drop_columns = ['model', 'engine', 'id']\n",
    "    \n",
    "    hot_encoding_columns = ['brand', 'transmission', 'ext_col', 'int_col']\n",
    "    \n",
    "    categorical_vars = hot_encoding_columns + ['fuel_type', 'accident', 'clean_title']\n",
    "    \n",
    "    df['fuel_type'] = df['fuel_type'].apply(lambda x: 1 if x == 'Gasoline' else 0)\n",
    "    df['accident'] = df['accident'].apply(lambda x: 1 if x == 'At least 1 accident or damage reported' else 0)\n",
    "    df['clean_title'] = df['clean_title'].apply(lambda x: 1 if x == 'Yes' else 0)\n",
    "    \n",
    "    df.drop(drop_columns, axis=1, inplace=True)\n",
    "    \n",
    "    for col in hot_encoding_columns:\n",
    "        frequency = df[col].value_counts(normalize=True)\n",
    "        rare_categories = frequency[frequency < threshold].index\n",
    "        df[col] = df[col].apply(lambda x: 'Other' if x in rare_categories else x)\n",
    "    \n",
    "\n",
    "    df = pd.get_dummies(df, columns=hot_encoding_columns, drop_first=True)\n",
    "    \n",
    "    return df"
   ]
  },
  {
   "cell_type": "code",
   "execution_count": 72,
   "id": "6387119b-ad0c-493f-82b0-98c1f6516b9c",
   "metadata": {},
   "outputs": [
    {
     "data": {
      "text/html": [
       "<div>\n",
       "<style scoped>\n",
       "    .dataframe tbody tr th:only-of-type {\n",
       "        vertical-align: middle;\n",
       "    }\n",
       "\n",
       "    .dataframe tbody tr th {\n",
       "        vertical-align: top;\n",
       "    }\n",
       "\n",
       "    .dataframe thead th {\n",
       "        text-align: right;\n",
       "    }\n",
       "</style>\n",
       "<table border=\"1\" class=\"dataframe\">\n",
       "  <thead>\n",
       "    <tr style=\"text-align: right;\">\n",
       "      <th></th>\n",
       "      <th>model_year</th>\n",
       "      <th>milage</th>\n",
       "      <th>fuel_type</th>\n",
       "      <th>accident</th>\n",
       "      <th>clean_title</th>\n",
       "      <th>brand_BMW</th>\n",
       "      <th>brand_Chevrolet</th>\n",
       "      <th>brand_Ford</th>\n",
       "      <th>brand_Jeep</th>\n",
       "      <th>brand_Land</th>\n",
       "      <th>...</th>\n",
       "      <th>ext_col_Blue</th>\n",
       "      <th>ext_col_Gray</th>\n",
       "      <th>ext_col_Other</th>\n",
       "      <th>ext_col_Red</th>\n",
       "      <th>ext_col_Silver</th>\n",
       "      <th>ext_col_White</th>\n",
       "      <th>int_col_Black</th>\n",
       "      <th>int_col_Brown</th>\n",
       "      <th>int_col_Gray</th>\n",
       "      <th>int_col_Other</th>\n",
       "    </tr>\n",
       "  </thead>\n",
       "  <tbody>\n",
       "    <tr>\n",
       "      <th>0</th>\n",
       "      <td>2015</td>\n",
       "      <td>98000</td>\n",
       "      <td>1</td>\n",
       "      <td>0</td>\n",
       "      <td>1</td>\n",
       "      <td>False</td>\n",
       "      <td>False</td>\n",
       "      <td>False</td>\n",
       "      <td>False</td>\n",
       "      <td>True</td>\n",
       "      <td>...</td>\n",
       "      <td>False</td>\n",
       "      <td>False</td>\n",
       "      <td>False</td>\n",
       "      <td>False</td>\n",
       "      <td>False</td>\n",
       "      <td>True</td>\n",
       "      <td>False</td>\n",
       "      <td>False</td>\n",
       "      <td>False</td>\n",
       "      <td>False</td>\n",
       "    </tr>\n",
       "    <tr>\n",
       "      <th>1</th>\n",
       "      <td>2020</td>\n",
       "      <td>9142</td>\n",
       "      <td>0</td>\n",
       "      <td>0</td>\n",
       "      <td>1</td>\n",
       "      <td>False</td>\n",
       "      <td>False</td>\n",
       "      <td>False</td>\n",
       "      <td>False</td>\n",
       "      <td>True</td>\n",
       "      <td>...</td>\n",
       "      <td>False</td>\n",
       "      <td>False</td>\n",
       "      <td>False</td>\n",
       "      <td>False</td>\n",
       "      <td>True</td>\n",
       "      <td>False</td>\n",
       "      <td>True</td>\n",
       "      <td>False</td>\n",
       "      <td>False</td>\n",
       "      <td>False</td>\n",
       "    </tr>\n",
       "    <tr>\n",
       "      <th>2</th>\n",
       "      <td>2022</td>\n",
       "      <td>28121</td>\n",
       "      <td>1</td>\n",
       "      <td>0</td>\n",
       "      <td>0</td>\n",
       "      <td>False</td>\n",
       "      <td>False</td>\n",
       "      <td>True</td>\n",
       "      <td>False</td>\n",
       "      <td>False</td>\n",
       "      <td>...</td>\n",
       "      <td>False</td>\n",
       "      <td>False</td>\n",
       "      <td>False</td>\n",
       "      <td>False</td>\n",
       "      <td>False</td>\n",
       "      <td>True</td>\n",
       "      <td>False</td>\n",
       "      <td>False</td>\n",
       "      <td>False</td>\n",
       "      <td>True</td>\n",
       "    </tr>\n",
       "    <tr>\n",
       "      <th>3</th>\n",
       "      <td>2016</td>\n",
       "      <td>61258</td>\n",
       "      <td>1</td>\n",
       "      <td>0</td>\n",
       "      <td>0</td>\n",
       "      <td>False</td>\n",
       "      <td>False</td>\n",
       "      <td>False</td>\n",
       "      <td>False</td>\n",
       "      <td>False</td>\n",
       "      <td>...</td>\n",
       "      <td>False</td>\n",
       "      <td>False</td>\n",
       "      <td>True</td>\n",
       "      <td>False</td>\n",
       "      <td>False</td>\n",
       "      <td>False</td>\n",
       "      <td>True</td>\n",
       "      <td>False</td>\n",
       "      <td>False</td>\n",
       "      <td>False</td>\n",
       "    </tr>\n",
       "    <tr>\n",
       "      <th>4</th>\n",
       "      <td>2018</td>\n",
       "      <td>59000</td>\n",
       "      <td>1</td>\n",
       "      <td>0</td>\n",
       "      <td>1</td>\n",
       "      <td>False</td>\n",
       "      <td>False</td>\n",
       "      <td>False</td>\n",
       "      <td>False</td>\n",
       "      <td>False</td>\n",
       "      <td>...</td>\n",
       "      <td>False</td>\n",
       "      <td>True</td>\n",
       "      <td>False</td>\n",
       "      <td>False</td>\n",
       "      <td>False</td>\n",
       "      <td>False</td>\n",
       "      <td>True</td>\n",
       "      <td>False</td>\n",
       "      <td>False</td>\n",
       "      <td>False</td>\n",
       "    </tr>\n",
       "  </tbody>\n",
       "</table>\n",
       "<p>5 rows × 34 columns</p>\n",
       "</div>"
      ],
      "text/plain": [
       "   model_year  milage  fuel_type  accident  clean_title  brand_BMW  \\\n",
       "0        2015   98000          1         0            1      False   \n",
       "1        2020    9142          0         0            1      False   \n",
       "2        2022   28121          1         0            0      False   \n",
       "3        2016   61258          1         0            0      False   \n",
       "4        2018   59000          1         0            1      False   \n",
       "\n",
       "   brand_Chevrolet  brand_Ford  brand_Jeep  brand_Land  ...  ext_col_Blue  \\\n",
       "0            False       False       False        True  ...         False   \n",
       "1            False       False       False        True  ...         False   \n",
       "2            False        True       False       False  ...         False   \n",
       "3            False       False       False       False  ...         False   \n",
       "4            False       False       False       False  ...         False   \n",
       "\n",
       "   ext_col_Gray  ext_col_Other  ext_col_Red  ext_col_Silver  ext_col_White  \\\n",
       "0         False          False        False           False           True   \n",
       "1         False          False        False            True          False   \n",
       "2         False          False        False           False           True   \n",
       "3         False           True        False           False          False   \n",
       "4          True          False        False           False          False   \n",
       "\n",
       "   int_col_Black  int_col_Brown  int_col_Gray  int_col_Other  \n",
       "0          False          False         False          False  \n",
       "1           True          False         False          False  \n",
       "2          False          False         False           True  \n",
       "3           True          False         False          False  \n",
       "4           True          False         False          False  \n",
       "\n",
       "[5 rows x 34 columns]"
      ]
     },
     "execution_count": 72,
     "metadata": {},
     "output_type": "execute_result"
    }
   ],
   "source": [
    "df = preproccess(train_data)\n",
    "test_df = preproccess(test_data)\n",
    "test_df.head()"
   ]
  },
  {
   "cell_type": "code",
   "execution_count": 58,
   "id": "f9b11181-e8d3-417e-a287-6b1bc2e90a82",
   "metadata": {},
   "outputs": [],
   "source": [
    "features = df.columns[df.columns != 'price']\n",
    "target =['price']\n",
    "mmscaler = MinMaxScaler()\n",
    "rb_scaler = RobustScaler()\n",
    "df_scaled = mmscaler.fit_transform(df[features])\n",
    "target_scaled = rb_scaler.fit_transform(df[target])\n",
    "X_train, X_val, y_train, y_val = train_test_split(df_scaled, target_scaled, test_size= 0.07, shuffle= True, random_state= 3004)\n"
   ]
  },
  {
   "cell_type": "markdown",
   "id": "3420ab14-a71f-48fc-bfaf-623743434985",
   "metadata": {},
   "source": [
    "## Model"
   ]
  },
  {
   "cell_type": "code",
   "execution_count": 61,
   "id": "fb1919be-677d-483a-a564-377eceb54942",
   "metadata": {},
   "outputs": [
    {
     "name": "stderr",
     "output_type": "stream",
     "text": [
      "[I 2024-09-10 19:58:24,028] A new study created in memory with name: no-name-a76544d8-fbaf-4d95-9358-38559ed03309\n",
      "[I 2024-09-10 19:58:44,370] Trial 0 finished with value: 3.3975329399108887 and parameters: {'learning_rate': 0.0017103815134707412, 'dropout_rate': 0.4350647991455672, 'l2_lambda': 0.00011276018217292319}. Best is trial 0 with value: 3.3975329399108887.\n",
      "[I 2024-09-10 19:59:55,402] Trial 1 finished with value: 3.3277621269226074 and parameters: {'learning_rate': 0.000126014447126749, 'dropout_rate': 0.31837220936511085, 'l2_lambda': 3.761604469422678e-05}. Best is trial 1 with value: 3.3277621269226074.\n",
      "[I 2024-09-10 20:00:29,451] Trial 2 finished with value: 3.3974950313568115 and parameters: {'learning_rate': 0.0006368748676900512, 'dropout_rate': 0.4944365778524541, 'l2_lambda': 0.00026150476024061327}. Best is trial 1 with value: 3.3277621269226074.\n",
      "[I 2024-09-10 20:01:28,126] Trial 3 finished with value: 3.319149971008301 and parameters: {'learning_rate': 7.001550118109581e-05, 'dropout_rate': 0.17205822772083879, 'l2_lambda': 3.5383144974368424e-05}. Best is trial 3 with value: 3.319149971008301.\n",
      "[I 2024-09-10 20:02:48,581] Trial 4 finished with value: 3.3447647094726562 and parameters: {'learning_rate': 0.00011218121291906461, 'dropout_rate': 0.23628890304661174, 'l2_lambda': 0.0002243343109205075}. Best is trial 3 with value: 3.319149971008301.\n",
      "[I 2024-09-10 20:03:35,746] Trial 5 finished with value: 3.463876485824585 and parameters: {'learning_rate': 0.0009834460158829493, 'dropout_rate': 0.33702149653617386, 'l2_lambda': 0.004945825200687326}. Best is trial 3 with value: 3.319149971008301.\n",
      "[I 2024-09-10 20:04:16,322] Trial 6 finished with value: 3.4540538787841797 and parameters: {'learning_rate': 0.004130425068122445, 'dropout_rate': 0.4738813364344543, 'l2_lambda': 3.0024263364841592e-05}. Best is trial 3 with value: 3.319149971008301.\n",
      "[I 2024-09-10 20:04:47,573] Trial 7 finished with value: 3.369779348373413 and parameters: {'learning_rate': 0.00042214183178023676, 'dropout_rate': 0.45049023379193653, 'l2_lambda': 5.1205900830862076e-05}. Best is trial 3 with value: 3.319149971008301.\n",
      "[I 2024-09-10 20:07:49,370] Trial 8 finished with value: 3.345322847366333 and parameters: {'learning_rate': 2.3112255778952046e-05, 'dropout_rate': 0.3049368572678308, 'l2_lambda': 2.7949037007415856e-05}. Best is trial 3 with value: 3.319149971008301.\n",
      "[I 2024-09-10 20:08:54,851] Trial 9 finished with value: 3.3558881282806396 and parameters: {'learning_rate': 0.00019437440201111245, 'dropout_rate': 0.28091031114603204, 'l2_lambda': 0.00033399273494319595}. Best is trial 3 with value: 3.319149971008301.\n",
      "[I 2024-09-10 20:11:52,227] Trial 10 finished with value: 3.4123799800872803 and parameters: {'learning_rate': 1.4095018768443986e-05, 'dropout_rate': 0.1093450185708657, 'l2_lambda': 0.0012192184239240612}. Best is trial 3 with value: 3.319149971008301.\n",
      "[I 2024-09-10 20:13:33,691] Trial 11 finished with value: 3.3219120502471924 and parameters: {'learning_rate': 6.092855814637057e-05, 'dropout_rate': 0.1492799871849055, 'l2_lambda': 1.9647694423710114e-05}. Best is trial 3 with value: 3.319149971008301.\n",
      "[I 2024-09-10 20:15:26,242] Trial 12 finished with value: 3.3104326725006104 and parameters: {'learning_rate': 4.2880817985314055e-05, 'dropout_rate': 0.12711730758599005, 'l2_lambda': 1.4953417407400252e-05}. Best is trial 12 with value: 3.3104326725006104.\n",
      "[I 2024-09-10 20:17:09,719] Trial 13 finished with value: 3.32413911819458 and parameters: {'learning_rate': 4.232596248347658e-05, 'dropout_rate': 0.17721257085185743, 'l2_lambda': 1.4146245866527378e-05}. Best is trial 12 with value: 3.3104326725006104.\n",
      "[I 2024-09-10 20:20:08,838] Trial 14 finished with value: 3.3482015132904053 and parameters: {'learning_rate': 1.1418051389386287e-05, 'dropout_rate': 0.21633906491718796, 'l2_lambda': 1.149153320648651e-05}. Best is trial 12 with value: 3.3104326725006104.\n",
      "[I 2024-09-10 20:21:39,302] Trial 15 finished with value: 3.3217148780822754 and parameters: {'learning_rate': 3.848411456367928e-05, 'dropout_rate': 0.10346764122148189, 'l2_lambda': 8.61578298430544e-05}. Best is trial 12 with value: 3.3104326725006104.\n",
      "[I 2024-09-10 20:23:08,900] Trial 16 finished with value: 3.361149549484253 and parameters: {'learning_rate': 7.635405041531123e-05, 'dropout_rate': 0.17870505999689848, 'l2_lambda': 0.000739075168329983}. Best is trial 12 with value: 3.3104326725006104.\n",
      "[I 2024-09-10 20:23:54,703] Trial 17 finished with value: 3.347498893737793 and parameters: {'learning_rate': 0.00022287737235511453, 'dropout_rate': 0.245429358380986, 'l2_lambda': 8.52963096288262e-05}. Best is trial 12 with value: 3.3104326725006104.\n",
      "[I 2024-09-10 20:26:08,578] Trial 18 finished with value: 3.361513137817383 and parameters: {'learning_rate': 2.515298027432025e-05, 'dropout_rate': 0.3875574821059299, 'l2_lambda': 1.0834231236927741e-05}. Best is trial 12 with value: 3.3104326725006104.\n",
      "[I 2024-09-10 20:26:41,499] Trial 19 finished with value: 3.6044187545776367 and parameters: {'learning_rate': 0.009999013088775557, 'dropout_rate': 0.14588974687464257, 'l2_lambda': 0.006910302758046122}. Best is trial 12 with value: 3.3104326725006104.\n",
      "[I 2024-09-10 20:27:10,936] Trial 20 finished with value: 3.3283333778381348 and parameters: {'learning_rate': 0.0003617108441021732, 'dropout_rate': 0.1977415531611573, 'l2_lambda': 6.243822780497044e-05}. Best is trial 12 with value: 3.3104326725006104.\n",
      "[I 2024-09-10 20:28:42,859] Trial 21 finished with value: 3.337629795074463 and parameters: {'learning_rate': 3.7231473585827255e-05, 'dropout_rate': 0.10391831638154092, 'l2_lambda': 0.00012896730198982812}. Best is trial 12 with value: 3.3104326725006104.\n",
      "[I 2024-09-10 20:29:56,270] Trial 22 finished with value: 3.3187851905822754 and parameters: {'learning_rate': 7.129895414362501e-05, 'dropout_rate': 0.1369301179543423, 'l2_lambda': 2.7593377876817336e-05}. Best is trial 12 with value: 3.3104326725006104.\n",
      "[I 2024-09-10 20:31:06,033] Trial 23 finished with value: 3.3107070922851562 and parameters: {'learning_rate': 0.00010670790123921725, 'dropout_rate': 0.15282531704782723, 'l2_lambda': 2.673303353787073e-05}. Best is trial 12 with value: 3.3104326725006104.\n",
      "[I 2024-09-10 20:32:04,270] Trial 24 finished with value: 3.315643310546875 and parameters: {'learning_rate': 0.0001504991719121885, 'dropout_rate': 0.14623120252506638, 'l2_lambda': 2.0467239773731122e-05}. Best is trial 12 with value: 3.3104326725006104.\n",
      "[I 2024-09-10 20:32:46,196] Trial 25 finished with value: 3.325681686401367 and parameters: {'learning_rate': 0.00012912745999356978, 'dropout_rate': 0.1410233271085008, 'l2_lambda': 1.7622763747317954e-05}. Best is trial 12 with value: 3.3104326725006104.\n",
      "[I 2024-09-10 20:33:15,367] Trial 26 finished with value: 3.3377394676208496 and parameters: {'learning_rate': 0.0002160757838177497, 'dropout_rate': 0.26125063372500834, 'l2_lambda': 1.927993252768215e-05}. Best is trial 12 with value: 3.3104326725006104.\n",
      "[I 2024-09-10 20:35:25,139] Trial 27 finished with value: 3.335261583328247 and parameters: {'learning_rate': 2.0999409020302186e-05, 'dropout_rate': 0.2056110023509427, 'l2_lambda': 5.4500670694238154e-05}. Best is trial 12 with value: 3.3104326725006104.\n",
      "[I 2024-09-10 20:35:59,913] Trial 28 finished with value: 3.4280800819396973 and parameters: {'learning_rate': 0.0005610704322983277, 'dropout_rate': 0.3543028685080967, 'l2_lambda': 0.0025529958653903078}. Best is trial 12 with value: 3.3104326725006104.\n",
      "[I 2024-09-10 20:36:36,283] Trial 29 finished with value: 3.361301898956299 and parameters: {'learning_rate': 0.0017637066639767222, 'dropout_rate': 0.12200825750240424, 'l2_lambda': 0.00012728939556012027}. Best is trial 12 with value: 3.3104326725006104.\n",
      "[I 2024-09-10 20:37:15,030] Trial 30 finished with value: 3.3324778079986572 and parameters: {'learning_rate': 0.00015546268847561746, 'dropout_rate': 0.16881931942425282, 'l2_lambda': 1.0264618323951052e-05}. Best is trial 12 with value: 3.3104326725006104.\n",
      "[I 2024-09-10 20:38:31,278] Trial 31 finished with value: 3.3183271884918213 and parameters: {'learning_rate': 7.835611546703774e-05, 'dropout_rate': 0.13699401280021234, 'l2_lambda': 2.571032148315584e-05}. Best is trial 12 with value: 3.3104326725006104.\n",
      "[I 2024-09-10 20:39:36,509] Trial 32 finished with value: 3.3169467449188232 and parameters: {'learning_rate': 0.0001117856139235594, 'dropout_rate': 0.1513356521723124, 'l2_lambda': 2.09430122068608e-05}. Best is trial 12 with value: 3.3104326725006104.\n",
      "[I 2024-09-10 20:40:15,420] Trial 33 finished with value: 3.331559419631958 and parameters: {'learning_rate': 0.0002929855244037446, 'dropout_rate': 0.21641853665151595, 'l2_lambda': 4.25585289347739e-05}. Best is trial 12 with value: 3.3104326725006104.\n",
      "[I 2024-09-10 20:41:48,375] Trial 34 finished with value: 3.316311836242676 and parameters: {'learning_rate': 0.00010723186538866164, 'dropout_rate': 0.15903642432231357, 'l2_lambda': 1.699347014353584e-05}. Best is trial 12 with value: 3.3104326725006104.\n",
      "[I 2024-09-10 20:43:40,880] Trial 35 finished with value: 3.320746660232544 and parameters: {'learning_rate': 4.9523019860568295e-05, 'dropout_rate': 0.1897924552483493, 'l2_lambda': 1.5830094949183e-05}. Best is trial 12 with value: 3.3104326725006104.\n",
      "[I 2024-09-10 20:44:55,601] Trial 36 finished with value: 3.345628261566162 and parameters: {'learning_rate': 9.637202095956e-05, 'dropout_rate': 0.23149635996914475, 'l2_lambda': 0.0001834272048817834}. Best is trial 12 with value: 3.3104326725006104.\n",
      "[I 2024-09-10 20:45:39,752] Trial 37 finished with value: 3.3306961059570312 and parameters: {'learning_rate': 0.0011391817378732267, 'dropout_rate': 0.16470651221717322, 'l2_lambda': 4.011062255747027e-05}. Best is trial 12 with value: 3.3104326725006104.\n",
      "[I 2024-09-10 20:46:31,290] Trial 38 finished with value: 3.357123851776123 and parameters: {'learning_rate': 0.00015316472223967156, 'dropout_rate': 0.11983554653081943, 'l2_lambda': 0.000390079989171603}. Best is trial 12 with value: 3.3104326725006104.\n",
      "[I 2024-09-10 20:47:46,503] Trial 39 finished with value: 3.328890800476074 and parameters: {'learning_rate': 0.0002802208057150375, 'dropout_rate': 0.2751107328938419, 'l2_lambda': 7.109172154702839e-05}. Best is trial 12 with value: 3.3104326725006104.\n",
      "[I 2024-09-10 20:50:37,664] Trial 40 finished with value: 3.3613674640655518 and parameters: {'learning_rate': 3.0993219665540416e-05, 'dropout_rate': 0.4024844342422542, 'l2_lambda': 3.472493128011852e-05}. Best is trial 12 with value: 3.3104326725006104.\n",
      "[I 2024-09-10 20:51:59,998] Trial 41 finished with value: 3.3212194442749023 and parameters: {'learning_rate': 0.00012284335404685024, 'dropout_rate': 0.16028925085613835, 'l2_lambda': 2.200981554930102e-05}. Best is trial 12 with value: 3.3104326725006104.\n",
      "[I 2024-09-10 20:52:53,310] Trial 42 finished with value: 3.31661319732666 and parameters: {'learning_rate': 9.714008037176e-05, 'dropout_rate': 0.12842570724540991, 'l2_lambda': 1.5133075216091994e-05}. Best is trial 12 with value: 3.3104326725006104.\n",
      "[I 2024-09-10 20:54:17,259] Trial 43 finished with value: 3.320913314819336 and parameters: {'learning_rate': 4.891311906004148e-05, 'dropout_rate': 0.12514884176834598, 'l2_lambda': 1.5272971325950663e-05}. Best is trial 12 with value: 3.3104326725006104.\n",
      "[I 2024-09-10 20:55:44,629] Trial 44 finished with value: 3.3184239864349365 and parameters: {'learning_rate': 8.857567019115988e-05, 'dropout_rate': 0.1926355794265367, 'l2_lambda': 1.321023509177579e-05}. Best is trial 12 with value: 3.3104326725006104.\n",
      "[I 2024-09-10 20:56:37,444] Trial 45 finished with value: 3.3249802589416504 and parameters: {'learning_rate': 0.00017134055143435396, 'dropout_rate': 0.12475271344841372, 'l2_lambda': 3.7994801024371794e-05}. Best is trial 12 with value: 3.3104326725006104.\n",
      "[I 2024-09-10 20:58:08,369] Trial 46 finished with value: 3.320361375808716 and parameters: {'learning_rate': 5.920624391937979e-05, 'dropout_rate': 0.17957676717225882, 'l2_lambda': 2.4354260310255387e-05}. Best is trial 12 with value: 3.3104326725006104.\n",
      "[I 2024-09-10 20:58:49,407] Trial 47 finished with value: 3.3170177936553955 and parameters: {'learning_rate': 0.0004201819826964628, 'dropout_rate': 0.15976451033788805, 'l2_lambda': 1.447900143706379e-05}. Best is trial 12 with value: 3.3104326725006104.\n",
      "[I 2024-09-10 20:59:32,806] Trial 48 finished with value: 3.3189589977264404 and parameters: {'learning_rate': 0.00064654918754937, 'dropout_rate': 0.11517156095390443, 'l2_lambda': 1.0012763585473395e-05}. Best is trial 12 with value: 3.3104326725006104.\n",
      "[I 2024-09-10 21:02:09,768] Trial 49 finished with value: 3.3262085914611816 and parameters: {'learning_rate': 2.0987542922327244e-05, 'dropout_rate': 0.10014732000847965, 'l2_lambda': 3.154738675358608e-05}. Best is trial 12 with value: 3.3104326725006104.\n"
     ]
    },
    {
     "name": "stdout",
     "output_type": "stream",
     "text": [
      "Best parameters: {'learning_rate': 4.2880817985314055e-05, 'dropout_rate': 0.12711730758599005, 'l2_lambda': 1.4953417407400252e-05}\n"
     ]
    }
   ],
   "source": [
    "#def objective(trial):\n",
    " #   learning_rate = trial.suggest_float('learning_rate', 1e-5, 1e-2, log= True )\n",
    "  #  dropout_rate = trial.suggest_float('dropout_rate', 0.1, 0.5)\n",
    "   # l2_lambda = trial.suggest_float('l2_lambda', 1e-5, 1e-2, log= True)\n",
    "\n",
    "    #model = tf.keras.models.Sequential([\n",
    "     #   InputLayer(shape=(34,)),  \n",
    "      #  Dense(64, activation= relu, \n",
    "       #                       kernel_regularizer=regularizers.l2(l2_lambda)),\n",
    "        #Dropout(dropout_rate),\n",
    "        \n",
    "        #Dense(64, activation=relu, \n",
    "         #                     kernel_regularizer=regularizers.l2(l2_lambda)),\n",
    "        #Dropout(dropout_rate),\n",
    "        #Dense(32, activation=relu, \n",
    "         #                     kernel_regularizer=regularizers.l2(l2_lambda)),\n",
    "        #Dropout(dropout_rate),\n",
    "\n",
    "        #Dense(16, activation=relu, \n",
    "         #                     kernel_regularizer=regularizers.l2(l2_lambda)),\n",
    "        #Dense(1, activation='linear')  \n",
    "    #])\n",
    "\n",
    "   \n",
    "    #model.compile(optimizer=Adam(learning_rate=learning_rate),\n",
    "     #             loss='mse',  # Mean Squared Error\n",
    "      #            metrics=['mae'])  # Mean Absolute Error\n",
    "\n",
    "    #early_stopping = EarlyStopping(monitor='val_loss', patience=10, restore_best_weights=True)\n",
    "\n",
    "    #history = model.fit(X_train, y_train,\n",
    "     #                   validation_data=(X_val, y_val),\n",
    "      #                  epochs=100,\n",
    "       #                 batch_size=32,\n",
    "        #                callbacks=[early_stopping],\n",
    "         #               verbose=0)\n",
    "\n",
    "    #val_loss = model.evaluate(X_val, y_val, verbose=0)\n",
    "    #return val_loss[0]\n",
    "\n",
    "\n",
    "#study = optuna.create_study(direction='minimize')\n",
    "#study.optimize(objective, n_trials=50)\n",
    "\n",
    "#print(f\"Best parameters: {study.best_params}\")"
   ]
  },
  {
   "cell_type": "code",
   "execution_count": 67,
   "id": "9d29bf2d-dd6f-4261-a9c9-5b980f4daba6",
   "metadata": {},
   "outputs": [
    {
     "name": "stdout",
     "output_type": "stream",
     "text": [
      "Epoch 1/100\n",
      "\u001b[1m5480/5480\u001b[0m \u001b[32m━━━━━━━━━━━━━━━━━━━━\u001b[0m\u001b[37m\u001b[0m \u001b[1m2s\u001b[0m 257us/step - loss: 5.3772 - mae: 0.7292 - val_loss: 3.3877 - val_mae: 0.6527\n",
      "Epoch 2/100\n",
      "\u001b[1m5480/5480\u001b[0m \u001b[32m━━━━━━━━━━━━━━━━━━━━\u001b[0m\u001b[37m\u001b[0m \u001b[1m1s\u001b[0m 245us/step - loss: 4.8627 - mae: 0.6495 - val_loss: 3.3712 - val_mae: 0.6399\n",
      "Epoch 3/100\n",
      "\u001b[1m5480/5480\u001b[0m \u001b[32m━━━━━━━━━━━━━━━━━━━━\u001b[0m\u001b[37m\u001b[0m \u001b[1m1s\u001b[0m 244us/step - loss: 4.9943 - mae: 0.6502 - val_loss: 3.3643 - val_mae: 0.5985\n",
      "Epoch 4/100\n",
      "\u001b[1m5480/5480\u001b[0m \u001b[32m━━━━━━━━━━━━━━━━━━━━\u001b[0m\u001b[37m\u001b[0m \u001b[1m1s\u001b[0m 246us/step - loss: 5.1931 - mae: 0.6557 - val_loss: 3.3770 - val_mae: 0.7030\n",
      "Epoch 5/100\n",
      "\u001b[1m5480/5480\u001b[0m \u001b[32m━━━━━━━━━━━━━━━━━━━━\u001b[0m\u001b[37m\u001b[0m \u001b[1m1s\u001b[0m 247us/step - loss: 4.7938 - mae: 0.6439 - val_loss: 3.3341 - val_mae: 0.6454\n",
      "Epoch 6/100\n",
      "\u001b[1m5480/5480\u001b[0m \u001b[32m━━━━━━━━━━━━━━━━━━━━\u001b[0m\u001b[37m\u001b[0m \u001b[1m1s\u001b[0m 245us/step - loss: 5.6326 - mae: 0.6512 - val_loss: 3.3520 - val_mae: 0.6678\n",
      "Epoch 7/100\n",
      "\u001b[1m5480/5480\u001b[0m \u001b[32m━━━━━━━━━━━━━━━━━━━━\u001b[0m\u001b[37m\u001b[0m \u001b[1m1s\u001b[0m 244us/step - loss: 5.3362 - mae: 0.6505 - val_loss: 3.3400 - val_mae: 0.6591\n",
      "Epoch 8/100\n",
      "\u001b[1m5480/5480\u001b[0m \u001b[32m━━━━━━━━━━━━━━━━━━━━\u001b[0m\u001b[37m\u001b[0m \u001b[1m1s\u001b[0m 247us/step - loss: 4.7256 - mae: 0.6424 - val_loss: 3.3334 - val_mae: 0.6057\n",
      "Epoch 9/100\n",
      "\u001b[1m5480/5480\u001b[0m \u001b[32m━━━━━━━━━━━━━━━━━━━━\u001b[0m\u001b[37m\u001b[0m \u001b[1m1s\u001b[0m 245us/step - loss: 5.5658 - mae: 0.6499 - val_loss: 3.3231 - val_mae: 0.6299\n",
      "Epoch 10/100\n",
      "\u001b[1m5480/5480\u001b[0m \u001b[32m━━━━━━━━━━━━━━━━━━━━\u001b[0m\u001b[37m\u001b[0m \u001b[1m1s\u001b[0m 246us/step - loss: 5.0499 - mae: 0.6489 - val_loss: 3.3265 - val_mae: 0.6232\n",
      "Epoch 11/100\n",
      "\u001b[1m5480/5480\u001b[0m \u001b[32m━━━━━━━━━━━━━━━━━━━━\u001b[0m\u001b[37m\u001b[0m \u001b[1m1s\u001b[0m 245us/step - loss: 5.0110 - mae: 0.6478 - val_loss: 3.3605 - val_mae: 0.6768\n",
      "Epoch 12/100\n",
      "\u001b[1m5480/5480\u001b[0m \u001b[32m━━━━━━━━━━━━━━━━━━━━\u001b[0m\u001b[37m\u001b[0m \u001b[1m1s\u001b[0m 246us/step - loss: 4.9001 - mae: 0.6452 - val_loss: 3.3640 - val_mae: 0.6744\n",
      "Epoch 13/100\n",
      "\u001b[1m5480/5480\u001b[0m \u001b[32m━━━━━━━━━━━━━━━━━━━━\u001b[0m\u001b[37m\u001b[0m \u001b[1m1s\u001b[0m 247us/step - loss: 4.7499 - mae: 0.6376 - val_loss: 3.3217 - val_mae: 0.6194\n",
      "Epoch 14/100\n",
      "\u001b[1m5480/5480\u001b[0m \u001b[32m━━━━━━━━━━━━━━━━━━━━\u001b[0m\u001b[37m\u001b[0m \u001b[1m1s\u001b[0m 245us/step - loss: 4.7018 - mae: 0.6411 - val_loss: 3.3287 - val_mae: 0.6480\n",
      "Epoch 15/100\n",
      "\u001b[1m5480/5480\u001b[0m \u001b[32m━━━━━━━━━━━━━━━━━━━━\u001b[0m\u001b[37m\u001b[0m \u001b[1m1s\u001b[0m 248us/step - loss: 5.6107 - mae: 0.6543 - val_loss: 3.3316 - val_mae: 0.6031\n",
      "Epoch 16/100\n",
      "\u001b[1m5480/5480\u001b[0m \u001b[32m━━━━━━━━━━━━━━━━━━━━\u001b[0m\u001b[37m\u001b[0m \u001b[1m1s\u001b[0m 246us/step - loss: 4.9167 - mae: 0.6453 - val_loss: 3.3188 - val_mae: 0.6119\n",
      "Epoch 17/100\n",
      "\u001b[1m5480/5480\u001b[0m \u001b[32m━━━━━━━━━━━━━━━━━━━━\u001b[0m\u001b[37m\u001b[0m \u001b[1m1s\u001b[0m 247us/step - loss: 5.4388 - mae: 0.6511 - val_loss: 3.3419 - val_mae: 0.6593\n",
      "Epoch 18/100\n",
      "\u001b[1m5480/5480\u001b[0m \u001b[32m━━━━━━━━━━━━━━━━━━━━\u001b[0m\u001b[37m\u001b[0m \u001b[1m1s\u001b[0m 246us/step - loss: 5.0352 - mae: 0.6422 - val_loss: 3.3280 - val_mae: 0.6547\n",
      "Epoch 19/100\n",
      "\u001b[1m5480/5480\u001b[0m \u001b[32m━━━━━━━━━━━━━━━━━━━━\u001b[0m\u001b[37m\u001b[0m \u001b[1m1s\u001b[0m 246us/step - loss: 5.1806 - mae: 0.6485 - val_loss: 3.3294 - val_mae: 0.6380\n",
      "Epoch 20/100\n",
      "\u001b[1m5480/5480\u001b[0m \u001b[32m━━━━━━━━━━━━━━━━━━━━\u001b[0m\u001b[37m\u001b[0m \u001b[1m1s\u001b[0m 248us/step - loss: 5.1410 - mae: 0.6435 - val_loss: 3.3140 - val_mae: 0.6202\n",
      "Epoch 21/100\n",
      "\u001b[1m5480/5480\u001b[0m \u001b[32m━━━━━━━━━━━━━━━━━━━━\u001b[0m\u001b[37m\u001b[0m \u001b[1m1s\u001b[0m 247us/step - loss: 4.8320 - mae: 0.6340 - val_loss: 3.3128 - val_mae: 0.6146\n",
      "Epoch 22/100\n",
      "\u001b[1m5480/5480\u001b[0m \u001b[32m━━━━━━━━━━━━━━━━━━━━\u001b[0m\u001b[37m\u001b[0m \u001b[1m1s\u001b[0m 245us/step - loss: 5.6081 - mae: 0.6473 - val_loss: 3.3142 - val_mae: 0.6303\n",
      "Epoch 23/100\n",
      "\u001b[1m5480/5480\u001b[0m \u001b[32m━━━━━━━━━━━━━━━━━━━━\u001b[0m\u001b[37m\u001b[0m \u001b[1m1s\u001b[0m 247us/step - loss: 4.5701 - mae: 0.6298 - val_loss: 3.3245 - val_mae: 0.6075\n",
      "Epoch 24/100\n",
      "\u001b[1m5480/5480\u001b[0m \u001b[32m━━━━━━━━━━━━━━━━━━━━\u001b[0m\u001b[37m\u001b[0m \u001b[1m1s\u001b[0m 245us/step - loss: 5.1676 - mae: 0.6457 - val_loss: 3.3202 - val_mae: 0.6539\n",
      "Epoch 25/100\n",
      "\u001b[1m5480/5480\u001b[0m \u001b[32m━━━━━━━━━━━━━━━━━━━━\u001b[0m\u001b[37m\u001b[0m \u001b[1m1s\u001b[0m 245us/step - loss: 5.6980 - mae: 0.6599 - val_loss: 3.3345 - val_mae: 0.6598\n",
      "Epoch 26/100\n",
      "\u001b[1m5480/5480\u001b[0m \u001b[32m━━━━━━━━━━━━━━━━━━━━\u001b[0m\u001b[37m\u001b[0m \u001b[1m1s\u001b[0m 247us/step - loss: 5.0516 - mae: 0.6439 - val_loss: 3.3184 - val_mae: 0.6371\n",
      "Epoch 27/100\n",
      "\u001b[1m5480/5480\u001b[0m \u001b[32m━━━━━━━━━━━━━━━━━━━━\u001b[0m\u001b[37m\u001b[0m \u001b[1m1s\u001b[0m 246us/step - loss: 5.5680 - mae: 0.6524 - val_loss: 3.3142 - val_mae: 0.6312\n",
      "Epoch 28/100\n",
      "\u001b[1m5480/5480\u001b[0m \u001b[32m━━━━━━━━━━━━━━━━━━━━\u001b[0m\u001b[37m\u001b[0m \u001b[1m1s\u001b[0m 244us/step - loss: 5.1803 - mae: 0.6453 - val_loss: 3.3270 - val_mae: 0.6624\n",
      "Epoch 29/100\n",
      "\u001b[1m5480/5480\u001b[0m \u001b[32m━━━━━━━━━━━━━━━━━━━━\u001b[0m\u001b[37m\u001b[0m \u001b[1m1s\u001b[0m 247us/step - loss: 5.5457 - mae: 0.6595 - val_loss: 3.3147 - val_mae: 0.6129\n",
      "Epoch 30/100\n",
      "\u001b[1m5480/5480\u001b[0m \u001b[32m━━━━━━━━━━━━━━━━━━━━\u001b[0m\u001b[37m\u001b[0m \u001b[1m1s\u001b[0m 245us/step - loss: 5.2489 - mae: 0.6444 - val_loss: 3.3897 - val_mae: 0.6998\n",
      "Epoch 31/100\n",
      "\u001b[1m5480/5480\u001b[0m \u001b[32m━━━━━━━━━━━━━━━━━━━━\u001b[0m\u001b[37m\u001b[0m \u001b[1m1s\u001b[0m 245us/step - loss: 5.5174 - mae: 0.6561 - val_loss: 3.3306 - val_mae: 0.6193\n"
     ]
    },
    {
     "data": {
      "text/plain": [
       "<keras.src.callbacks.history.History at 0x336cf5110>"
      ]
     },
     "execution_count": 67,
     "metadata": {},
     "output_type": "execute_result"
    }
   ],
   "source": [
    "model = tf.keras.models.Sequential([\n",
    "        InputLayer(shape=(34,)),  \n",
    "        Dense(32, activation= relu, \n",
    "                              kernel_regularizer=regularizers.l2(0)),\n",
    "        Dense(16, activation=relu, \n",
    "                              kernel_regularizer=regularizers.l2(0)),\n",
    "        Dense(8, activation= relu, \n",
    "                              kernel_regularizer=regularizers.l2(0)),\n",
    "        Dense(4, activation=relu, \n",
    "                              kernel_regularizer=regularizers.l2(0)),\n",
    "                Dense(1, activation=linear)  \n",
    "    ])\n",
    "\n",
    "   \n",
    "model.compile(optimizer=Adam(learning_rate=4.2880817985314055e-04),\n",
    "                  loss='mse',  \n",
    "                  metrics=['mae'])  \n",
    "\n",
    "    \n",
    "early_stopping = EarlyStopping(monitor='val_loss', patience=10, restore_best_weights=True)\n",
    "\n",
    "  \n",
    "model.fit(X_train, y_train,\n",
    "                        validation_data=(X_val, y_val),\n",
    "                        epochs=300,\n",
    "                        batch_size=32,\n",
    "                        callbacks=[early_stopping])"
   ]
  },
  {
   "cell_type": "code",
   "execution_count": 68,
   "id": "cf92ec5d-f2ac-48bd-9ae5-5b480a5439f3",
   "metadata": {},
   "outputs": [
    {
     "data": {
      "text/plain": [
       "3.312835931777954"
      ]
     },
     "execution_count": 68,
     "metadata": {},
     "output_type": "execute_result"
    }
   ],
   "source": [
    "val_loss = model.evaluate(X_val, y_val, verbose=0)\n",
    "val_loss[0]"
   ]
  },
  {
   "cell_type": "markdown",
   "id": "8d6f60d9-e4d1-46cc-a1e1-a7a96b0ebbfb",
   "metadata": {},
   "source": [
    "## Fast lightgbm experiment "
   ]
  },
  {
   "cell_type": "code",
   "execution_count": 87,
   "id": "aef50004-6a1b-4bc8-94ef-16cfb57ecabe",
   "metadata": {},
   "outputs": [],
   "source": [
    "import lightgbm as lgb"
   ]
  },
  {
   "cell_type": "code",
   "execution_count": 102,
   "id": "7d5f9fa9-d5df-4ca2-8b1e-9735a98c3f39",
   "metadata": {},
   "outputs": [
    {
     "ename": "IndentationError",
     "evalue": "unindent does not match any outer indentation level (<tokenize>, line 17)",
     "output_type": "error",
     "traceback": [
      "\u001b[0;36m  File \u001b[0;32m<tokenize>:17\u001b[0;36m\u001b[0m\n\u001b[0;31m    }\u001b[0m\n\u001b[0m    ^\u001b[0m\n\u001b[0;31mIndentationError\u001b[0m\u001b[0;31m:\u001b[0m unindent does not match any outer indentation level\n"
     ]
    }
   ],
   "source": [
    "#def objective(trial):\n",
    "    \n",
    " #   param = {\n",
    "  #      'objective': 'regression',\n",
    "   #     'metric': 'rmse',\n",
    "    #    'boosting_type': 'gbdt',\n",
    "     #   'num_leaves': trial.suggest_int('num_leaves', 20, 300),\n",
    "      #  'max_depth': trial.suggest_int('max_depth', 3, 12),\n",
    "       # 'learning_rate': trial.suggest_float('learning_rate', 1e-4, 1e-1, log= True),\n",
    "        #'n_estimators': trial.suggest_int('n_estimators', 100, 1000),\n",
    "        #'min_child_weight': trial.suggest_float('min_child_weight', 1e-3, 10, log= True),\n",
    "        #'subsample': trial.suggest_float('subsample', 0.6, 1.0),\n",
    "        #'colsample_bytree': trial.suggest_float('colsample_bytree', 0.6, 1.0),\n",
    "        #'reg_alpha': trial.suggest_float('reg_alpha', 1e-3, 10, log= True),\n",
    "        #'reg_lambda': trial.suggest_float('reg_lambda', 1e-3, 10, log= True),\n",
    "        #'early_stopping_rounds': 100\n",
    "    #}\n",
    "\n",
    "    #train_data = lgb.Dataset(X_train, label=y_train)\n",
    "    #valid_data = lgb.Dataset(X_val, label=y_val, reference=train_data)\n",
    "\n",
    "    \n",
    "    #gbm = lgb.train(param, train_data, valid_sets=[valid_data])\n",
    "\n",
    "    \n",
    "    #preds = gbm.predict(X_val)\n",
    "    #rmse = mean_squared_error(y_val, preds, squared=False)\n",
    "\n",
    "    #return rmse\n",
    "\n",
    "#study = optuna.create_study(direction='minimize')  \n",
    "#study.optimize(objective, n_trials=100)  \n",
    "\n",
    "#print(\"Best hyperparameters: \", study.best_params)\n",
    "\n",
    "#print(\"Best RMSE: \", study.best_value)"
   ]
  },
  {
   "cell_type": "code",
   "execution_count": 93,
   "id": "87e68d2d-bdb6-4e17-bc12-6445a8f7a506",
   "metadata": {},
   "outputs": [
    {
     "name": "stderr",
     "output_type": "stream",
     "text": [
      "/Users/rospel/anaconda3/envs/Project1/lib/python3.11/site-packages/lightgbm/engine.py:172: UserWarning: Found `n_estimators` in params. Will use it instead of argument\n",
      "  _log_warning(f\"Found `{alias}` in params. Will use it instead of argument\")\n",
      "/Users/rospel/anaconda3/envs/Project1/lib/python3.11/site-packages/lightgbm/basic.py:335: UserWarning: Converting column-vector to 1d array\n",
      "  _log_warning('Converting column-vector to 1d array')\n"
     ]
    },
    {
     "name": "stdout",
     "output_type": "stream",
     "text": [
      "[LightGBM] [Info] Auto-choosing row-wise multi-threading, the overhead of testing was 0.001645 seconds.\n",
      "You can set `force_row_wise=true` to remove the overhead.\n",
      "And if memory is not enough, you can set `force_col_wise=true`.\n",
      "[LightGBM] [Info] Total Bins 353\n",
      "[LightGBM] [Info] Number of data points in the train set: 175335, number of used features: 34\n",
      "[LightGBM] [Info] Start training from score 0.397578\n"
     ]
    }
   ],
   "source": [
    "train_data = lgb.Dataset(X_train, label=y_train)\n",
    "param =  {'num_leaves': 41, 'max_depth': 11, 'learning_rate': 0.07168594387102047, 'n_estimators': 859, 'min_child_weight': 0.037781836059008124, 'subsample': 0.8011142327220467, 'colsample_bytree': 0.6568535791049425, 'reg_alpha': 0.035463141758411754, 'reg_lambda': 0.0941159758083554}\n",
    "gbm = lgb.train(param, train_data)"
   ]
  },
  {
   "cell_type": "markdown",
   "id": "ae2d56b1-a708-498c-ad37-65d9f00847cb",
   "metadata": {},
   "source": [
    "## Predictions"
   ]
  },
  {
   "cell_type": "code",
   "execution_count": 97,
   "id": "7bc4189b-c583-430d-b03d-ec5559bb30fd",
   "metadata": {},
   "outputs": [],
   "source": [
    "preds = gbm.predict(mmscaler.transform(test_df))\n",
    "t_preds = rb_scaler.inverse_transform(preds.reshape(-1,1))\n",
    "t_preds = t_preds.reshape(-1)"
   ]
  },
  {
   "cell_type": "code",
   "execution_count": 98,
   "id": "2e98b7dd-5bde-4d5d-be85-1b60bed96565",
   "metadata": {},
   "outputs": [],
   "source": [
    "submit_df = pd.DataFrame(data= {'id': test_data['id'], 'price': t_preds})"
   ]
  },
  {
   "cell_type": "code",
   "execution_count": 99,
   "id": "8841aabf-6e84-4623-84b3-a242251282f8",
   "metadata": {},
   "outputs": [],
   "source": [
    "submit_df.to_csv('../data/submission.csv', index= False)"
   ]
  },
  {
   "cell_type": "code",
   "execution_count": 100,
   "id": "acc6546a-c76a-4f8a-a535-f8d4dfe7010c",
   "metadata": {},
   "outputs": [
    {
     "data": {
      "text/plain": [
       "(125690, 2)"
      ]
     },
     "execution_count": 100,
     "metadata": {},
     "output_type": "execute_result"
    }
   ],
   "source": [
    "submit_df.shape"
   ]
  },
  {
   "cell_type": "code",
   "execution_count": null,
   "id": "8a869b21-1ca3-4190-9299-281b83d456b0",
   "metadata": {},
   "outputs": [],
   "source": []
  }
 ],
 "metadata": {
  "kernelspec": {
   "display_name": "Python 3 (ipykernel)",
   "language": "python",
   "name": "python3"
  },
  "language_info": {
   "codemirror_mode": {
    "name": "ipython",
    "version": 3
   },
   "file_extension": ".py",
   "mimetype": "text/x-python",
   "name": "python",
   "nbconvert_exporter": "python",
   "pygments_lexer": "ipython3",
   "version": "3.11.9"
  }
 },
 "nbformat": 4,
 "nbformat_minor": 5
}
